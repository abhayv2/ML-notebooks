{
 "cells": [
  {
   "cell_type": "markdown",
   "metadata": {},
   "source": [
    "# Lecture 5  Classification Model I"
   ]
  },
  {
   "cell_type": "code",
   "execution_count": 1,
   "metadata": {},
   "outputs": [],
   "source": [
    "# import necessary libraries and specify that graphs should be plotted inline\n",
    "import numpy as np\n",
    "import pandas as pd\n",
    "import sklearn\n",
    "import matplotlib.pyplot as plt\n",
    "%matplotlib inline \n",
    "import warnings\n",
    "warnings.filterwarnings('ignore')"
   ]
  },
  {
   "cell_type": "markdown",
   "metadata": {},
   "source": [
    "## 1. Logistic Regression\n",
    "\n",
    "Logistic regression is realized through \n",
    "\n",
    "**<center>sklearn.linear_model.LogisticRegression</center>**\n",
    "\n",
    "- By default, **l2 regularization is applied**. Use penalty = 'none' if you do not want to include regularization.\n",
    "- You can still use .coef_ and .intercept_ to get coefficient estimates.\n",
    "- By default, .score reports the accuracy\n",
    "- A new attribute is **.predict_proba**. It gives the predicted probability of y=1 (instead of the class)."
   ]
  },
  {
   "cell_type": "markdown",
   "metadata": {},
   "source": [
    "### Setting and Data\n",
    "We will use a standard dataset that predicts breast cancer for today's practice. Similar to the iris dataset, the breast_cancer dataset comes with Scikit-Learn package. This is a binary classification dataset (i.e., Y=1 if malignant, Y=0 if benign). We can use the same syntax to learn about the breast_cancer dataset (e.g., variables, observations, etc.) \n",
    "\n",
    "It's description can also be found at: <center>https://scikit-learn.org/stable/modules/generated/sklearn.datasets.load_breast_cancer.html#sklearn.datasets.load_breast_cancer</center>\n",
    "\n",
    "\n",
    "\n",
    "**Practice:** \n",
    "- Explore the cancer dataset, how many observations & variables are there?\n",
    "- Data Splitting - 30% to test and 70% to train.\n",
    "- Predict y with logistic regression and l2 regularization. Report the coefficients (including intercept).\n",
    "- Report the accuracy of training and test set.\n",
    "    - Hint: you can use .score(x, y) method to get accuracy. As accuracy is default measure for binary outcomes.\n",
    "- Suppose another classifier: it classifies all records to class zero. What would be the accuracy? "
   ]
  },
  {
   "cell_type": "code",
   "execution_count": 2,
   "metadata": {},
   "outputs": [
    {
     "name": "stdout",
     "output_type": "stream",
     "text": [
      "dict_keys(['data', 'target', 'frame', 'target_names', 'DESCR', 'feature_names', 'filename'])\n",
      "(569, 30)\n"
     ]
    }
   ],
   "source": [
    "# Exploring dataset\n",
    "\n",
    "from sklearn.datasets import load_breast_cancer\n",
    "cancer = load_breast_cancer()\n",
    "\n",
    "cancer # dictionary\n",
    "print(cancer.keys()) # Check elements in cancer dataset: data is X, target is y.\n",
    "print(cancer.data.shape)\n",
    "# print(cancer.DESCR)\n",
    "# cancer['target_names']"
   ]
  },
  {
   "cell_type": "code",
   "execution_count": 3,
   "metadata": {},
   "outputs": [
    {
     "name": "stdout",
     "output_type": "stream",
     "text": [
      "0.6256281407035176 0.6274165202108963\n"
     ]
    }
   ],
   "source": [
    "# Data Splitting, check sample\n",
    "from sklearn.model_selection import train_test_split\n",
    "X = cancer.data\n",
    "y = cancer.target\n",
    "\n",
    "X_train, X_test, y_train, y_test = train_test_split(X, y, test_size = 0.3, random_state=42)\n",
    "print(np.mean(y_train), np.mean(y))\n",
    "# we need a comparable portion of 1s for y"
   ]
  },
  {
   "cell_type": "code",
   "execution_count": 4,
   "metadata": {},
   "outputs": [
    {
     "name": "stdout",
     "output_type": "stream",
     "text": [
      "[[ 1.01322221  0.48871974  0.24142616 -0.01743311 -0.0369577  -0.1809111\n",
      "  -0.25476623 -0.1096403  -0.05639228 -0.01130504  0.03317019  0.44871094\n",
      "   0.06665758 -0.109024   -0.00348241 -0.03814513 -0.05235921 -0.01397441\n",
      "  -0.01366724 -0.00353883  1.03269273 -0.54500908 -0.23183132 -0.01154197\n",
      "  -0.06649223 -0.54782767 -0.68204423 -0.20211939 -0.18379495 -0.0505072 ]]\n",
      "[0.18432175]\n",
      "Test Accuracy is: 0.9707602339181286\n",
      "0.9707602339181286\n"
     ]
    }
   ],
   "source": [
    "from sklearn.linear_model import LogisticRegression\n",
    "# Run the Logistic Regression Model: \n",
    "## (a) Define function, train the model. Report coefficient.\n",
    "logreg = LogisticRegression()\n",
    "logreg.fit(X_train, y_train)\n",
    "print(logreg.coef_)\n",
    "print(logreg.intercept_)\n",
    "## (b) Accuracy\n",
    "print(\"Test Accuracy is:\", logreg.score(X_test, y_test))\n",
    "\n",
    "# Get it manually\n",
    "y_test_pred = logreg.predict(X_test)\n",
    "## compare if pred is the same as true, ==\n",
    "y_test == y_test_pred\n",
    "\n",
    "# acc: # trues/total y test sample\n",
    "acc_manual = np.sum(y_test == y_test_pred) / y_test.shape[0]\n",
    "print(acc_manual)"
   ]
  },
  {
   "cell_type": "code",
   "execution_count": 5,
   "metadata": {},
   "outputs": [
    {
     "name": "stdout",
     "output_type": "stream",
     "text": [
      "[0.36842105]\n",
      "[1.]\n",
      "0.368421052631579\n"
     ]
    }
   ],
   "source": [
    "# Suppose another classifier: it classifies all records to class zero. What would be the accuracy?\n",
    "# We consider two methods to solve this problem\n",
    "\n",
    "# Method 1: use \"==\" the same way in calculating accuracy \n",
    "## 0==y_test to figure out elements with correct prediction\n",
    "Acc_Zeros = np.sum(0 == y_test)/y_test.shape \n",
    "print(Acc_Zeros)\n",
    "\n",
    "# Method 2: check what accuracy means, and think about an alternative way\n",
    "print(Acc_Zeros + np.mean(y_test))\n",
    "\n",
    "np.mean(y_test) # proportion of 1s in the test set\n",
    "Acc_Zeros       # proportion of 0s in the test set\n",
    "\n",
    "# An Alternative Way to get accuracy for the naive classifier\n",
    "Acc_Zeros_method2 = 1 - np.mean(y_test)\n",
    "print(Acc_Zeros_method2)\n"
   ]
  },
  {
   "cell_type": "markdown",
   "metadata": {},
   "source": [
    "## 2. Model Evaluation\n",
    "We have several ways to evaluate a classification model. \n",
    "\n",
    "### 2.1 Confusion Matrix\n",
    "It is often good start from **Confusion Matrix**, which provides the source (e.g., TP, TN, FP, FN) to calculate other measures. Checking the patterns of confusion matrix can also help understand which type of error is more likely to occur (FP or FN) and the potential reasons (classifier's issue or data issue).\n",
    "\n",
    "To generate confusion matrix, we use syntax:\n",
    "**<center>sklearn.metrics.confusion_matrix(Actual_y, Predicted_y)</center>**\n",
    "\n",
    "- The rows represents actual class, and columns represent predicted class. \n",
    "- For the upper-left corner, predicted = actual = 0\n",
    "\n",
    "**Practice:**\n",
    "- Create a confusion matrix for the logistic regression model, report the TP, FP ,TN, FN.\n",
    "\n"
   ]
  },
  {
   "cell_type": "code",
   "execution_count": 6,
   "metadata": {},
   "outputs": [
    {
     "data": {
      "text/plain": [
       "array([[ 59,   4],\n",
       "       [  1, 107]], dtype=int64)"
      ]
     },
     "execution_count": 6,
     "metadata": {},
     "output_type": "execute_result"
    }
   ],
   "source": [
    "from sklearn.metrics import confusion_matrix\n",
    "my_matrix = confusion_matrix(y_test, y_test_pred)\n",
    "my_matrix"
   ]
  },
  {
   "cell_type": "code",
   "execution_count": 7,
   "metadata": {},
   "outputs": [
    {
     "name": "stdout",
     "output_type": "stream",
     "text": [
      "TP is: 107\n",
      "TN is: 59\n",
      "FP is: 4\n",
      "FN is: 1\n"
     ]
    }
   ],
   "source": [
    "print(\"TP is:\", my_matrix[1,1])\n",
    "print(\"TN is:\", my_matrix[0,0])\n",
    "print(\"FP is:\", my_matrix[0,1])\n",
    "print(\"FN is:\", my_matrix[1,0])"
   ]
  },
  {
   "cell_type": "markdown",
   "metadata": {},
   "source": [
    "### Additional Performance Measures\n",
    "We can obtain different performance measures, **Accuracy, Precision, Recall, F1 score**, using Scikit-Learn. The syntax is very similar to confusion matrix. Specifically, we can simply replace \"confusion_matrix\" by [accuracy_score, precision_score, recall_score, and f1_score]. Thus:\n",
    "\n",
    "<center>sklearn.metrics.accuracy_score(Actual_y, Predicted_y)</center>\n",
    "<center>sklearn.metrics.precision_score(Actual_y, Predicted_y)</center>\n",
    "<center>sklearn.metrics.recall_score(Actual_y, Predicted_y)</center>\n",
    "<center>sklearn.metrics.f1_score(Actual_y, Predicted_y)</center>\n",
    "\n",
    "**Practice:**\n",
    "\n",
    "- Given the logistic regression trained in the previous section, calculate and print the precision, recall, accuracy, and f1_score"
   ]
  },
  {
   "cell_type": "code",
   "execution_count": 8,
   "metadata": {},
   "outputs": [
    {
     "name": "stdout",
     "output_type": "stream",
     "text": [
      "Precision score: 0.963963963963964\n",
      "Recall score: 0.9907407407407407\n",
      "Accuracy score: 0.9707602339181286\n",
      "F1 score: 0.9771689497716894\n"
     ]
    }
   ],
   "source": [
    "from sklearn.metrics import precision_score, recall_score, accuracy_score, f1_score\n",
    "\n",
    "\n",
    "print('Precision score:', precision_score(y_test, y_test_pred))\n",
    "print('Recall score:', recall_score(y_test, y_test_pred))\n",
    "print('Accuracy score:', accuracy_score(y_test, y_test_pred))\n",
    "print('F1 score:', f1_score(y_test, y_test_pred))"
   ]
  },
  {
   "cell_type": "code",
   "execution_count": null,
   "metadata": {},
   "outputs": [],
   "source": []
  },
  {
   "cell_type": "markdown",
   "metadata": {},
   "source": [
    "### Visualization\n",
    "We consider two methods for visualization: Precision-Recall Curve, and ROC Curve. Recall that to draw the figure, we need to calculate the probability of Y=1 for each record. Thus, we need to first obtain the predicted probability of Y=1 using the .predict_proba method:\n",
    "\n",
    "**<center>MODEL_NAME.predict_proba(INPUT_DATA)[:,1]</center>**\n",
    "- \"[:,1]\" takes the second column of the output (the first column is P(Y=0))\n",
    "- The list of probabilities can be used to draw figures.\n",
    "\n",
    "#### For Precision-Recall Curve: \n",
    " - Use **sklearn.metrics.precision_recall_curve(Actual_Y, Probability)** \n",
    " - Output: a list of necessary measures (following this order): [precision, recall, threshold]\n",
    " - Plot the figure (e.g., plt.plot()).\n",
    " \n",
    "#### For ROC Curve: \n",
    " - Use **sklearn.metrics.roc_curve(Actual_Y, Probability)** \n",
    " - Output: a list of necessary measures (following this order): [fpr (1-specificity), tpr (recall), threshold]\n",
    " - Plot the figure (e.g., plt.plot()).\n",
    " - We can also get AUC score using     **sklearn.metrics.roc_auc_score(Actual_Y, Probability)**\n",
    "\n",
    "**Practice:**\n",
    "\n",
    "1. Plot the Precision-Recall Curve\n",
    "2. Plot the ROC Curve\n",
    "3. Obtain the AUC score"
   ]
  },
  {
   "cell_type": "code",
   "execution_count": 17,
   "metadata": {},
   "outputs": [
    {
     "data": {
      "text/plain": [
       "Text(0, 0.5, 'Precision')"
      ]
     },
     "execution_count": 17,
     "metadata": {},
     "output_type": "execute_result"
    },
    {
     "data": {
      "image/png": "[encoded data removed]",
      "text/plain": [
       "<Figure size 432x288 with 1 Axes>"
      ]
     },
     "metadata": {
      "needs_background": "light"
     },
     "output_type": "display_data"
    }
   ],
   "source": [
    "# Practice 1: Here we plot the Precision-Recall Curve\n",
    "\n",
    "from sklearn.metrics import precision_recall_curve\n",
    "\n",
    "# S1. Get probability: getting pi-hats\n",
    "pred_prob = logreg.predict_proba(X_test)[:,1]\n",
    "\n",
    "logreg.predict_proba(X_test).shape # 2 columns: [prob_y=0, prob_y=1]\n",
    "# to get pi-hat, all records, but second column (column index = 1): [ : , 1]\n",
    "\n",
    "# S2. Collect Necessary Measures: 3 outputs\n",
    "precision, recall, threshold = precision_recall_curve(y_test, pred_prob)\n",
    "# precision, recall = precision_recall_curve(y_test, pred_prob)\n",
    "\n",
    "# S3. Plot Figure\n",
    "plt.plot(recall, precision)\n",
    "plt.xlabel(\"Recall\")\n",
    "plt.ylabel(\"Precision\")"
   ]
  },
  {
   "cell_type": "code",
   "execution_count": 22,
   "metadata": {},
   "outputs": [
    {
     "name": "stdout",
     "output_type": "stream",
     "text": [
      "AUC for logistic regression: 0.996766607877719\n"
     ]
    }
   ],
   "source": [
    "from sklearn.metrics import roc_auc_score\n",
    "\n",
    "# we have obtained the predicted probability in the previous step: y_pred_proba\n",
    "\n",
    "\n",
    "\n",
    "print(\"AUC for logistic regression:\", roc_auc_score(y_test, pred_prob)  )"
   ]
  },
  {
   "cell_type": "code",
   "execution_count": 21,
   "metadata": {},
   "outputs": [
    {
     "data": {
      "text/plain": [
       "Text(0, 0.5, 'TPR')"
      ]
     },
     "execution_count": 21,
     "metadata": {},
     "output_type": "execute_result"
    },
    {
     "data": {
      "image/png": "[encoded data removed]",
      "text/plain": [
       "<Figure size 432x288 with 1 Axes>"
      ]
     },
     "metadata": {
      "needs_background": "light"
     },
     "output_type": "display_data"
    }
   ],
   "source": [
    "# Practice 2: Similar to Precision-Recall Curve\n",
    "\n",
    "from sklearn.metrics import roc_curve\n",
    "\n",
    "# Predicted Probability: pred_proba\n",
    "# Get Measures\n",
    "FPR, TPR, threshold = roc_curve(y_test, pred_prob)\n",
    "# Generate Figure\n",
    "plt.plot(FPR, TPR)\n",
    "plt.xlabel(\"FPR\")\n",
    "plt.ylabel(\"TPR\")"
   ]
  },
  {
   "cell_type": "code",
   "execution_count": null,
   "metadata": {},
   "outputs": [],
   "source": []
  },
  {
   "cell_type": "markdown",
   "metadata": {},
   "source": [
    "## 3. K-Nearest Neighbor\n",
    "\n"
   ]
  },
  {
   "cell_type": "markdown",
   "metadata": {},
   "source": [
    "KNN is realized through:\n",
    "**<center>sklearn.neighbors.KNeighborsClassifier(n_neighbors)</center>**\n",
    "- n_neighbors: how many neighbors (k)\n",
    "- p: the distance measure. p=2 for euclidean distance (default), p=1 for manhattan distance.\n",
    "\n",
    "After training the model with .fit method, you can use .predict and .score for prediction and performance report. You can also use .kneighbors to find the neighbors and corresponding distances for a (set of) new point(s). Note that this feature is not available if you use GridSearchCV.\n",
    "\n",
    "*Extension:To use KNN for regression purpose, check: sklearn.neighbors.KNeighborsRegressor.*"
   ]
  },
  {
   "cell_type": "markdown",
   "metadata": {},
   "source": [
    "### IRIS EXAMPLE: 3 classes\n",
    "IRIS dataset consists of 3 different types of irises (Setosa, Versicolour, and Virginica). There are 150 observations and 4 features: Sepal Length, Sepal Width, Petal Length and Petal Width. The features are stored in a 150x4 2D numpy array. The target is a 1D numpy array indicating the type of each iris.\n",
    "\n",
    "**Practice:**\n",
    "- Load the data and get a general idea of the dataset\n",
    "- We will use the first two features to predict the iris type. Define X and Y (complete dataset), and create a scatter plot to show the relationship between the features and iris types.\n",
    "- Split the dataset, use knn where k=3 for classification, report accuracy for test set.\n",
    "- Use cross-validation to find the best k among all odd numbers between 3 and 25 (inclusive). Report the mean validation score of the chosen model through CV process. Also report the test score of the chosen model."
   ]
  },
  {
   "cell_type": "code",
   "execution_count": 23,
   "metadata": {},
   "outputs": [
    {
     "name": "stdout",
     "output_type": "stream",
     "text": [
      "dict_keys(['data', 'target', 'frame', 'target_names', 'DESCR', 'feature_names', 'filename'])\n",
      "(150, 4)\n",
      "['setosa' 'versicolor' 'virginica']\n"
     ]
    }
   ],
   "source": [
    "from sklearn.datasets import load_iris\n",
    "iris = load_iris()\n",
    "print(iris.keys())\n",
    "print(iris.data.shape)\n",
    "print(iris.target_names) # three classes"
   ]
  },
  {
   "cell_type": "code",
   "execution_count": 24,
   "metadata": {},
   "outputs": [],
   "source": [
    "## Data Visualization:\n",
    "X = iris.data[:, :2] # we only take the first two features.\n",
    "Y = iris.target"
   ]
  },
  {
   "cell_type": "code",
   "execution_count": 25,
   "metadata": {},
   "outputs": [
    {
     "data": {
      "text/plain": [
       "<matplotlib.colorbar.Colorbar at 0x23d099a9340>"
      ]
     },
     "execution_count": 25,
     "metadata": {},
     "output_type": "execute_result"
    },
    {
     "data": {
      "image/png": "[encoded data removed]",
      "text/plain": [
       "<Figure size 432x288 with 2 Axes>"
      ]
     },
     "metadata": {
      "needs_background": "light"
     },
     "output_type": "display_data"
    }
   ],
   "source": [
    "## Visualization of the data set\n",
    "\n",
    "X = iris.data[:, :2] # we only take the first two features.\n",
    "Y = iris.target\n",
    "\n",
    "plt.scatter(X[:, 0], X[:, 1], c=Y)\n",
    "plt.xlabel('Sepal length')\n",
    "plt.ylabel('Sepal width')\n",
    "plt.colorbar(ticks = [0,1,2])"
   ]
  },
  {
   "cell_type": "code",
   "execution_count": 26,
   "metadata": {},
   "outputs": [],
   "source": [
    "# Data Splitting\n",
    "from sklearn.model_selection import train_test_split\n",
    "X_train, X_test, y_train, y_test = train_test_split(X, Y, test_size = 0.25, random_state=42)"
   ]
  },
  {
   "cell_type": "code",
   "execution_count": 27,
   "metadata": {},
   "outputs": [
    {
     "data": {
      "text/plain": [
       "KNeighborsClassifier(n_neighbors=3)"
      ]
     },
     "execution_count": 27,
     "metadata": {},
     "output_type": "execute_result"
    }
   ],
   "source": [
    "# Train a k-NN model with k = 3\n",
    "from sklearn.neighbors import KNeighborsClassifier\n",
    "knn3 = KNeighborsClassifier(n_neighbors = 3)\n",
    "\n",
    "knn3.fit(X_train, y_train)"
   ]
  },
  {
   "cell_type": "code",
   "execution_count": 29,
   "metadata": {},
   "outputs": [
    {
     "data": {
      "text/plain": [
       "0.7631578947368421"
      ]
     },
     "execution_count": 29,
     "metadata": {},
     "output_type": "execute_result"
    }
   ],
   "source": [
    "knn3.predict(X_test)\n",
    "knn3.score(X_test, y_test)"
   ]
  },
  {
   "cell_type": "code",
   "execution_count": 30,
   "metadata": {},
   "outputs": [
    {
     "data": {
      "text/plain": [
       "array([0])"
      ]
     },
     "execution_count": 30,
     "metadata": {},
     "output_type": "execute_result"
    }
   ],
   "source": [
    "# Suppose new sample, x1 = x2 = 5\n",
    "X_new = [[5, 5]]\n",
    "knn3.predict(X_new)"
   ]
  },
  {
   "cell_type": "code",
   "execution_count": 31,
   "metadata": {},
   "outputs": [
    {
     "data": {
      "text/plain": [
       "(array([[0.92195445, 0.94339811, 1.17046999]]),\n",
       " array([[ 1, 33,  5]], dtype=int64))"
      ]
     },
     "execution_count": 31,
     "metadata": {},
     "output_type": "execute_result"
    }
   ],
   "source": [
    "knn3.kneighbors(X_new) # distance of three closest neighbors; row index of the neighbors"
   ]
  },
  {
   "cell_type": "code",
   "execution_count": 34,
   "metadata": {},
   "outputs": [
    {
     "name": "stdout",
     "output_type": "stream",
     "text": [
      "{'n_neighbors': 25}\n",
      "0.7770750988142293\n"
     ]
    }
   ],
   "source": [
    "from sklearn.model_selection import GridSearchCV\n",
    "from sklearn.neighbors import KNeighborsClassifier\n",
    "\n",
    "# define function\n",
    "#knn = KNeighborsClassifier( p = 1) # if manhattan distance required\n",
    "\n",
    "knn = KNeighborsClassifier() \n",
    "\n",
    "# define a list of parameters\n",
    "param_knn = {'n_neighbors': range(3, 26, 2) }  # exactly the same as the input variable name. \n",
    "\n",
    "# range(i,j): consecutive integers i to j exclude j \n",
    "# range(i, j, s): integers from i to j exclude j, increase by s. default s=1\n",
    "\n",
    "#apply grid search\n",
    "grid_knn = GridSearchCV(knn, param_knn, cv = 5)\n",
    "grid_knn.fit(X_train, y_train)\n",
    "\n",
    "# the best hyperparameter chosen:\n",
    "print(grid_knn.best_params_)\n",
    "\n",
    "# When k=25 (best case), the validation score of through CV is:\n",
    "print(grid_knn.best_score_)\n"
   ]
  },
  {
   "cell_type": "code",
   "execution_count": 39,
   "metadata": {},
   "outputs": [
    {
     "data": {
      "text/plain": [
       "(array([[0.92195445, 0.94339811, 1.17046999, 1.17046999, 1.20415946,\n",
       "         1.20415946, 1.28062485, 1.30384048, 1.33416641, 1.36014705,\n",
       "         1.4       , 1.40356688, 1.5       , 1.5       , 1.50332964,\n",
       "         1.50332964, 1.6       , 1.60312195, 1.61245155, 1.61245155,\n",
       "         1.64924225, 1.64924225, 1.7       , 1.70293864, 1.8       ]]),\n",
       " array([[  1,  33,   5,  40,  20,  76, 109,  90,  86,   6,   0,  94,  50,\n",
       "          19,  15,  63,  49,  27,  18,  23,  67, 106,  43,  25,  44]],\n",
       "       dtype=int64))"
      ]
     },
     "execution_count": 39,
     "metadata": {},
     "output_type": "execute_result"
    }
   ],
   "source": [
    "# For X_new, its 25 nns:\n",
    "grid_knn.best_estimator_.kneighbors(X_new)"
   ]
  },
  {
   "cell_type": "code",
   "execution_count": null,
   "metadata": {},
   "outputs": [],
   "source": []
  }
 ],
 "metadata": {
  "kernelspec": {
   "display_name": "Python 3",
   "language": "python",
   "name": "python3"
  },
  "language_info": {
   "codemirror_mode": {
    "name": "ipython",
    "version": 3
   },
   "file_extension": ".py",
   "mimetype": "text/x-python",
   "name": "python",
   "nbconvert_exporter": "python",
   "pygments_lexer": "ipython3",
   "version": "3.8.8"
  }
 },
 "nbformat": 4,
 "nbformat_minor": 4
}
