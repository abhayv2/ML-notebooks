{
 "cells": [
  {
   "cell_type": "markdown",
   "metadata": {},
   "source": [
    "# Lecture 2 Preprocessing\n",
    "\n",
    "*Note: This file systematically summarizes the key data preprocessing methods. In the future lectures, we will revisit these preprocessing methods when necessary (based on the requirement of the models).* "
   ]
  },
  {
   "cell_type": "code",
   "execution_count": 1,
   "metadata": {},
   "outputs": [],
   "source": [
    "import numpy as np\n",
    "import pandas as pd  # for data analytics\n",
    "\n",
    "# The two packages below are for plotting\n",
    "import seaborn as sns\n",
    "import matplotlib.pyplot as plt\n",
    "\n",
    "%matplotlib inline\n",
    "# Type it in the first cell of your notebook, then your matplotlib plots will be included next to your codes. \n",
    "# Otherwise, include plt.show()"
   ]
  },
  {
   "cell_type": "markdown",
   "metadata": {},
   "source": [
    "### Prep: Data Loading\n",
    "\n",
    "We use the same data 'train.csv' for the practice of data preprocessing. Load data first.\n",
    "\n",
    "\n"
   ]
  },
  {
   "cell_type": "code",
   "execution_count": 2,
   "metadata": {},
   "outputs": [],
   "source": [
    "# data loading\n",
    "df = pd.read_csv('train.csv')"
   ]
  },
  {
   "cell_type": "markdown",
   "metadata": {},
   "source": [
    "## 1. Data Preprocessing\n",
    "In most cases, we rely on sklearn.preprocessing module to complete data preprocessing. Examples include scaling and encoding. As the implementation of sklearn is consistent across different scenarios (e.g., preprocessing, model training, etc.), we save this coding part for the next lecture.\n",
    "\n",
    "### Section 1.1 Skewed Data\n",
    "Consider log transfer and square root transfer. These can be done by simple calculation using numpy (i.e. np.log(), np.sqrt())."
   ]
  },
  {
   "cell_type": "code",
   "execution_count": 3,
   "metadata": {},
   "outputs": [
    {
     "data": {
      "text/plain": [
       "(array([148., 723., 373., 135.,  51.,  19.,   4.,   3.,   2.,   2.]),\n",
       " array([ 34900., 106910., 178920., 250930., 322940., 394950., 466960.,\n",
       "        538970., 610980., 682990., 755000.]),\n",
       " <BarContainer object of 10 artists>)"
      ]
     },
     "execution_count": 3,
     "metadata": {},
     "output_type": "execute_result"
    },
    {
     "data": {
      "image/png": "[encoded data removed]",
      "text/plain": [
       "<Figure size 432x288 with 1 Axes>"
      ]
     },
     "metadata": {
      "needs_background": "light"
     },
     "output_type": "display_data"
    }
   ],
   "source": [
    "# Check Original Distribution\n",
    "x = df['SalePrice']\n",
    "plt.hist(x)"
   ]
  },
  {
   "cell_type": "code",
   "execution_count": 4,
   "metadata": {},
   "outputs": [
    {
     "data": {
      "text/plain": [
       "(array([  5.,  12.,  54., 184., 470., 400., 220.,  90.,  19.,   6.]),\n",
       " array([10.46024211, 10.7676652 , 11.07508829, 11.38251138, 11.68993448,\n",
       "        11.99735757, 12.30478066, 12.61220375, 12.91962684, 13.22704994,\n",
       "        13.53447303]),\n",
       " <BarContainer object of 10 artists>)"
      ]
     },
     "execution_count": 4,
     "metadata": {},
     "output_type": "execute_result"
    },
    {
     "data": {
      "image/png": "[encoded data removed]",
      "text/plain": [
       "<Figure size 432x288 with 1 Axes>"
      ]
     },
     "metadata": {
      "needs_background": "light"
     },
     "output_type": "display_data"
    }
   ],
   "source": [
    "# Now check distribution with log transfer\n",
    "log_x = np.log(x)\n",
    "\n",
    "plt.hist(log_x)\n",
    "\n",
    "## Note: sometimes, we use log(x+1), \n",
    "## especially when your data contains lots x_min  = 0, and x_max is not small (e.g., x_max>10) "
   ]
  },
  {
   "cell_type": "code",
   "execution_count": 5,
   "metadata": {},
   "outputs": [
    {
     "data": {
      "text/plain": [
       "(array([ 17., 116., 505., 444., 233.,  92.,  38.,   7.,   6.,   2.]),\n",
       " array([186.81541692, 255.02461122, 323.23380551, 391.4429998 ,\n",
       "        459.65219409, 527.86138839, 596.07058268, 664.27977697,\n",
       "        732.48897126, 800.69816556, 868.90735985]),\n",
       " <BarContainer object of 10 artists>)"
      ]
     },
     "execution_count": 5,
     "metadata": {},
     "output_type": "execute_result"
    },
    {
     "data": {
      "image/png": "[encoded data removed]",
      "text/plain": [
       "<Figure size 432x288 with 1 Axes>"
      ]
     },
     "metadata": {
      "needs_background": "light"
     },
     "output_type": "display_data"
    }
   ],
   "source": [
    "# See how it works for sqrt\n",
    "sqrt_x = np.sqrt(x)\n",
    "\n",
    "plt.hist(sqrt_x)"
   ]
  },
  {
   "cell_type": "markdown",
   "metadata": {},
   "source": [
    "### Section 1.2 Data Scaling and Encoding\n",
    "Data scaling and encoding syntax are under Scikit-Learn package Preprocessing Module. Coding when using sklearn packages is longer and follows a standard workflow. We will elaborate the workflow in linear regression section. In the current section, we only provide the syntax and coding template.\n",
    "\n",
    "For specific parameter settings, please check the sklearn manual. You can simple copy and paste the syntax in Google to find the official manual.\n",
    "\n",
    "**Standard Scaler:** For standardization (i.e., applying standard scaler), use syntax:\n",
    "\n",
    "**<center>sklearn.preprocessing.StandardScaler()</center>**\n",
    "\n",
    "**Min-Max Scaler:** For min-max scaler, use syntax:\n",
    "\n",
    "**<center>sklearn.preprocessing.MinMaxScaler()</center>**\n",
    "\n",
    "**One-Hot Encoding:** \n",
    "For One-hot encoding, use syntax: \n",
    "\n",
    "**<center>sklearn.preprocessing.OneHotEncoder()</center>**\n",
    "\n",
    "**Ordinal Encoding**\n",
    "For ordinal encoding, use syntax:\n",
    "**<center>sklearn.preprocessing.OrdinalEncoder()</center>**"
   ]
  },
  {
   "cell_type": "code",
   "execution_count": 6,
   "metadata": {},
   "outputs": [
    {
     "data": {
      "text/html": [
       "<div>\n",
       "<style scoped>\n",
       "    .dataframe tbody tr th:only-of-type {\n",
       "        vertical-align: middle;\n",
       "    }\n",
       "\n",
       "    .dataframe tbody tr th {\n",
       "        vertical-align: top;\n",
       "    }\n",
       "\n",
       "    .dataframe thead th {\n",
       "        text-align: right;\n",
       "    }\n",
       "</style>\n",
       "<table border=\"1\" class=\"dataframe\">\n",
       "  <thead>\n",
       "    <tr style=\"text-align: right;\">\n",
       "      <th></th>\n",
       "      <th>SalePrice</th>\n",
       "      <th>OverallQual</th>\n",
       "      <th>GrLivArea</th>\n",
       "      <th>GarageCars</th>\n",
       "      <th>TotalBsmtSF</th>\n",
       "    </tr>\n",
       "  </thead>\n",
       "  <tbody>\n",
       "    <tr>\n",
       "      <th>count</th>\n",
       "      <td>1460.000000</td>\n",
       "      <td>1460.000000</td>\n",
       "      <td>1460.000000</td>\n",
       "      <td>1460.000000</td>\n",
       "      <td>1460.000000</td>\n",
       "    </tr>\n",
       "    <tr>\n",
       "      <th>mean</th>\n",
       "      <td>180921.195890</td>\n",
       "      <td>6.099315</td>\n",
       "      <td>1515.463699</td>\n",
       "      <td>1.767123</td>\n",
       "      <td>1057.429452</td>\n",
       "    </tr>\n",
       "    <tr>\n",
       "      <th>std</th>\n",
       "      <td>79442.502883</td>\n",
       "      <td>1.382997</td>\n",
       "      <td>525.480383</td>\n",
       "      <td>0.747315</td>\n",
       "      <td>438.705324</td>\n",
       "    </tr>\n",
       "    <tr>\n",
       "      <th>min</th>\n",
       "      <td>34900.000000</td>\n",
       "      <td>1.000000</td>\n",
       "      <td>334.000000</td>\n",
       "      <td>0.000000</td>\n",
       "      <td>0.000000</td>\n",
       "    </tr>\n",
       "    <tr>\n",
       "      <th>25%</th>\n",
       "      <td>129975.000000</td>\n",
       "      <td>5.000000</td>\n",
       "      <td>1129.500000</td>\n",
       "      <td>1.000000</td>\n",
       "      <td>795.750000</td>\n",
       "    </tr>\n",
       "    <tr>\n",
       "      <th>50%</th>\n",
       "      <td>163000.000000</td>\n",
       "      <td>6.000000</td>\n",
       "      <td>1464.000000</td>\n",
       "      <td>2.000000</td>\n",
       "      <td>991.500000</td>\n",
       "    </tr>\n",
       "    <tr>\n",
       "      <th>75%</th>\n",
       "      <td>214000.000000</td>\n",
       "      <td>7.000000</td>\n",
       "      <td>1776.750000</td>\n",
       "      <td>2.000000</td>\n",
       "      <td>1298.250000</td>\n",
       "    </tr>\n",
       "    <tr>\n",
       "      <th>max</th>\n",
       "      <td>755000.000000</td>\n",
       "      <td>10.000000</td>\n",
       "      <td>5642.000000</td>\n",
       "      <td>4.000000</td>\n",
       "      <td>6110.000000</td>\n",
       "    </tr>\n",
       "  </tbody>\n",
       "</table>\n",
       "</div>"
      ],
      "text/plain": [
       "           SalePrice  OverallQual    GrLivArea   GarageCars  TotalBsmtSF\n",
       "count    1460.000000  1460.000000  1460.000000  1460.000000  1460.000000\n",
       "mean   180921.195890     6.099315  1515.463699     1.767123  1057.429452\n",
       "std     79442.502883     1.382997   525.480383     0.747315   438.705324\n",
       "min     34900.000000     1.000000   334.000000     0.000000     0.000000\n",
       "25%    129975.000000     5.000000  1129.500000     1.000000   795.750000\n",
       "50%    163000.000000     6.000000  1464.000000     2.000000   991.500000\n",
       "75%    214000.000000     7.000000  1776.750000     2.000000  1298.250000\n",
       "max    755000.000000    10.000000  5642.000000     4.000000  6110.000000"
      ]
     },
     "execution_count": 6,
     "metadata": {},
     "output_type": "execute_result"
    }
   ],
   "source": [
    "# Try Scaling: original unscaled features\n",
    "var = ['SalePrice','OverallQual','GrLivArea','GarageCars','TotalBsmtSF']\n",
    "X = df[var]\n",
    "X.describe()"
   ]
  },
  {
   "cell_type": "code",
   "execution_count": 7,
   "metadata": {},
   "outputs": [],
   "source": [
    "# Standard scaler\n",
    "from sklearn.preprocessing import StandardScaler # load the function, selective import\n",
    "\n",
    "scaler = StandardScaler()                    # define scaler\n",
    "\n",
    "X_standardized = scaler.fit_transform(X)     # obtain transfered X. Returns a Numpy array\n",
    "\n",
    "# The scaled data is: X_standardized"
   ]
  },
  {
   "cell_type": "code",
   "execution_count": 8,
   "metadata": {},
   "outputs": [
    {
     "name": "stdout",
     "output_type": "stream",
     "text": [
      "          SalePrice   OverallQual     GrLivArea    GarageCars   TotalBsmtSF\n",
      "count  1.460000e+03  1.460000e+03  1.460000e+03  1.460000e+03  1.460000e+03\n",
      "mean   1.180182e-16 -7.680310e-17 -1.446332e-16  2.585451e-17  2.063038e-16\n",
      "std    1.000343e+00  1.000343e+00  1.000343e+00  1.000343e+00  1.000343e+00\n",
      "min   -1.838704e+00 -3.688413e+00 -2.249120e+00 -2.365440e+00 -2.411167e+00\n",
      "25%   -6.415162e-01 -7.951515e-01 -7.347485e-01 -1.026858e+00 -5.966855e-01\n",
      "50%   -2.256643e-01 -7.183611e-02 -9.797004e-02  3.117246e-01 -1.503334e-01\n",
      "75%    4.165294e-01  6.514792e-01  4.974036e-01  3.117246e-01  5.491227e-01\n",
      "max    7.228819e+00  2.821425e+00  7.855574e+00  2.988889e+00  1.152095e+01\n",
      "[ 1.36268470e-16  1.38701835e-16 -1.27751691e-16  1.21668277e-16\n",
      "  2.45769919e-16]\n"
     ]
    }
   ],
   "source": [
    "# Now let's check the summary statistics of X_standardized\n",
    "## (For simple summary, change 2D numpy array to pandas dataframe, and get summary statistics)\n",
    "new_dataframe = pd.DataFrame(X_standardized, columns = var)\n",
    "print(new_dataframe.describe())  # focus on mean and std\n",
    "print(X_standardized.mean(axis=0)) # This provides the mean of each variable"
   ]
  },
  {
   "cell_type": "code",
   "execution_count": 9,
   "metadata": {},
   "outputs": [
    {
     "name": "stdout",
     "output_type": "stream",
     "text": [
      "[0. 0. 0. 0. 0.] [1. 1. 1. 1. 1.]\n"
     ]
    }
   ],
   "source": [
    "# MinMax Scaler\n",
    "from sklearn.preprocessing import MinMaxScaler\n",
    "scaler_minmax = MinMaxScaler()\n",
    "X_minmax = scaler_minmax.fit_transform(X)\n",
    "\n",
    "## Now X_minmax is the transferred var\n",
    "# let's check the min and max for each variable:\n",
    "print(X_minmax.min(axis = 0), X_minmax.max(axis = 0)) "
   ]
  },
  {
   "cell_type": "code",
   "execution_count": 10,
   "metadata": {},
   "outputs": [
    {
     "data": {
      "text/plain": [
       "(WD       1267\n",
       " New       122\n",
       " COD        43\n",
       " ConLD       9\n",
       " ConLI       5\n",
       " ConLw       5\n",
       " CWD         4\n",
       " Oth         3\n",
       " Con         2\n",
       " Name: SaleType, dtype: int64,\n",
       " Normal     1198\n",
       " Partial     125\n",
       " Abnorml     101\n",
       " Family       20\n",
       " Alloca       12\n",
       " AdjLand       4\n",
       " Name: SaleCondition, dtype: int64)"
      ]
     },
     "execution_count": 10,
     "metadata": {},
     "output_type": "execute_result"
    }
   ],
   "source": [
    "## Then work on categorical Encoding\n",
    "\n",
    "# Let's first collect two categorical variables\n",
    "catvar = ['SaleType', 'SaleCondition']\n",
    "X_cat = df[catvar]   # X_cat: two categorical variables\n",
    "\n",
    "\n",
    "# Syntax below shows the unique values under each categorical var\n",
    "df.SaleType.value_counts(), df.SaleCondition.value_counts() \n",
    "## 9 values for SaleType; 6 values for SaleCondition"
   ]
  },
  {
   "cell_type": "code",
   "execution_count": 11,
   "metadata": {},
   "outputs": [
    {
     "data": {
      "text/html": [
       "<div>\n",
       "<style scoped>\n",
       "    .dataframe tbody tr th:only-of-type {\n",
       "        vertical-align: middle;\n",
       "    }\n",
       "\n",
       "    .dataframe tbody tr th {\n",
       "        vertical-align: top;\n",
       "    }\n",
       "\n",
       "    .dataframe thead th {\n",
       "        text-align: right;\n",
       "    }\n",
       "</style>\n",
       "<table border=\"1\" class=\"dataframe\">\n",
       "  <thead>\n",
       "    <tr style=\"text-align: right;\">\n",
       "      <th></th>\n",
       "      <th>SaleType</th>\n",
       "      <th>SaleCondition</th>\n",
       "    </tr>\n",
       "  </thead>\n",
       "  <tbody>\n",
       "    <tr>\n",
       "      <th>0</th>\n",
       "      <td>WD</td>\n",
       "      <td>Normal</td>\n",
       "    </tr>\n",
       "    <tr>\n",
       "      <th>1</th>\n",
       "      <td>WD</td>\n",
       "      <td>Normal</td>\n",
       "    </tr>\n",
       "    <tr>\n",
       "      <th>2</th>\n",
       "      <td>WD</td>\n",
       "      <td>Normal</td>\n",
       "    </tr>\n",
       "    <tr>\n",
       "      <th>3</th>\n",
       "      <td>WD</td>\n",
       "      <td>Abnorml</td>\n",
       "    </tr>\n",
       "    <tr>\n",
       "      <th>4</th>\n",
       "      <td>WD</td>\n",
       "      <td>Normal</td>\n",
       "    </tr>\n",
       "  </tbody>\n",
       "</table>\n",
       "</div>"
      ],
      "text/plain": [
       "  SaleType SaleCondition\n",
       "0       WD        Normal\n",
       "1       WD        Normal\n",
       "2       WD        Normal\n",
       "3       WD       Abnorml\n",
       "4       WD        Normal"
      ]
     },
     "execution_count": 11,
     "metadata": {},
     "output_type": "execute_result"
    }
   ],
   "source": [
    "# Check our X_cat data\n",
    "X_cat.head()"
   ]
  },
  {
   "cell_type": "code",
   "execution_count": 12,
   "metadata": {},
   "outputs": [],
   "source": [
    "# One-hot Encoder\n",
    "from sklearn.preprocessing import OneHotEncoder\n",
    "my_encoder = OneHotEncoder(handle_unknown='ignore', sparse = False) # handle_unknown: whether to report error when missings are found\n",
    "                                                                    # sparse: set it to True improves efficiency. Currently set to False for presentation purpose\n",
    "X_encoded = my_encoder.fit_transform(X_cat)\n",
    "# Transfered data: X_encoded"
   ]
  },
  {
   "cell_type": "code",
   "execution_count": 13,
   "metadata": {},
   "outputs": [
    {
     "data": {
      "text/plain": [
       "array([[0., 0., 0., ..., 0., 1., 0.],\n",
       "       [0., 0., 0., ..., 0., 1., 0.],\n",
       "       [0., 0., 0., ..., 0., 1., 0.],\n",
       "       ...,\n",
       "       [0., 0., 0., ..., 0., 1., 0.],\n",
       "       [0., 0., 0., ..., 0., 1., 0.],\n",
       "       [0., 0., 0., ..., 0., 1., 0.]])"
      ]
     },
     "execution_count": 13,
     "metadata": {},
     "output_type": "execute_result"
    }
   ],
   "source": [
    "X_encoded # Values are now 0s and 1s"
   ]
  },
  {
   "cell_type": "code",
   "execution_count": 14,
   "metadata": {},
   "outputs": [
    {
     "name": "stdout",
     "output_type": "stream",
     "text": [
      "(1460, 15)\n",
      "[array(['COD', 'CWD', 'Con', 'ConLD', 'ConLI', 'ConLw', 'New', 'Oth', 'WD'],\n",
      "      dtype=object), array(['Abnorml', 'AdjLand', 'Alloca', 'Family', 'Normal', 'Partial'],\n",
      "      dtype=object)]\n"
     ]
    }
   ],
   "source": [
    "print(X_encoded.shape) # we have 15 binary features (recall we have 9+6 = 15 distinct values)\n",
    "print(my_encoder.categories_) # This shows all the categories. The variables are generated based on the order of the specific array."
   ]
  },
  {
   "cell_type": "code",
   "execution_count": 15,
   "metadata": {},
   "outputs": [],
   "source": [
    "# Now try ordinal encoding - keep in mind this is not an appropriate approach for our current scenario\n",
    "from sklearn.preprocessing import OrdinalEncoder\n",
    "my_encoder_ord = OrdinalEncoder(handle_unknown='ignore')\n",
    "# if you receive error from the previous syntax, then comment it out and try this:\n",
    "# my_encoder_ord = OrdinalEncoder(handle_unknown='use_encoded_value', unknown_value = 999)\n",
    "\n",
    "## The reason for possible error is the version inconsistency of sklearn package."
   ]
  },
  {
   "cell_type": "code",
   "execution_count": 16,
   "metadata": {},
   "outputs": [
    {
     "name": "stdout",
     "output_type": "stream",
     "text": [
      "[array(['COD', 'CWD', 'Con', 'ConLD', 'ConLI', 'ConLw', 'New', 'Oth', 'WD'],\n",
      "      dtype=object), array(['Abnorml', 'AdjLand', 'Alloca', 'Family', 'Normal', 'Partial'],\n",
      "      dtype=object)]\n"
     ]
    }
   ],
   "source": [
    "X_encoded_ord = my_encoder_ord.fit_transform(X_cat)\n",
    "X_encoded_ord.shape # this time we have 2 features\n",
    "print(my_encoder_ord.categories_)  # The values of each new variable is the index of the corresponding category within the array."
   ]
  },
  {
   "cell_type": "code",
   "execution_count": 17,
   "metadata": {},
   "outputs": [
    {
     "data": {
      "text/html": [
       "<div>\n",
       "<style scoped>\n",
       "    .dataframe tbody tr th:only-of-type {\n",
       "        vertical-align: middle;\n",
       "    }\n",
       "\n",
       "    .dataframe tbody tr th {\n",
       "        vertical-align: top;\n",
       "    }\n",
       "\n",
       "    .dataframe thead th {\n",
       "        text-align: right;\n",
       "    }\n",
       "</style>\n",
       "<table border=\"1\" class=\"dataframe\">\n",
       "  <thead>\n",
       "    <tr style=\"text-align: right;\">\n",
       "      <th></th>\n",
       "      <th>SaleType</th>\n",
       "      <th>SaleCondition</th>\n",
       "    </tr>\n",
       "  </thead>\n",
       "  <tbody>\n",
       "    <tr>\n",
       "      <th>0</th>\n",
       "      <td>WD</td>\n",
       "      <td>Normal</td>\n",
       "    </tr>\n",
       "    <tr>\n",
       "      <th>1</th>\n",
       "      <td>WD</td>\n",
       "      <td>Normal</td>\n",
       "    </tr>\n",
       "    <tr>\n",
       "      <th>2</th>\n",
       "      <td>WD</td>\n",
       "      <td>Normal</td>\n",
       "    </tr>\n",
       "    <tr>\n",
       "      <th>3</th>\n",
       "      <td>WD</td>\n",
       "      <td>Abnorml</td>\n",
       "    </tr>\n",
       "    <tr>\n",
       "      <th>4</th>\n",
       "      <td>WD</td>\n",
       "      <td>Normal</td>\n",
       "    </tr>\n",
       "    <tr>\n",
       "      <th>...</th>\n",
       "      <td>...</td>\n",
       "      <td>...</td>\n",
       "    </tr>\n",
       "    <tr>\n",
       "      <th>1455</th>\n",
       "      <td>WD</td>\n",
       "      <td>Normal</td>\n",
       "    </tr>\n",
       "    <tr>\n",
       "      <th>1456</th>\n",
       "      <td>WD</td>\n",
       "      <td>Normal</td>\n",
       "    </tr>\n",
       "    <tr>\n",
       "      <th>1457</th>\n",
       "      <td>WD</td>\n",
       "      <td>Normal</td>\n",
       "    </tr>\n",
       "    <tr>\n",
       "      <th>1458</th>\n",
       "      <td>WD</td>\n",
       "      <td>Normal</td>\n",
       "    </tr>\n",
       "    <tr>\n",
       "      <th>1459</th>\n",
       "      <td>WD</td>\n",
       "      <td>Normal</td>\n",
       "    </tr>\n",
       "  </tbody>\n",
       "</table>\n",
       "<p>1460 rows × 2 columns</p>\n",
       "</div>"
      ],
      "text/plain": [
       "     SaleType SaleCondition\n",
       "0          WD        Normal\n",
       "1          WD        Normal\n",
       "2          WD        Normal\n",
       "3          WD       Abnorml\n",
       "4          WD        Normal\n",
       "...       ...           ...\n",
       "1455       WD        Normal\n",
       "1456       WD        Normal\n",
       "1457       WD        Normal\n",
       "1458       WD        Normal\n",
       "1459       WD        Normal\n",
       "\n",
       "[1460 rows x 2 columns]"
      ]
     },
     "execution_count": 17,
     "metadata": {},
     "output_type": "execute_result"
    }
   ],
   "source": [
    "X_cat"
   ]
  },
  {
   "cell_type": "code",
   "execution_count": 18,
   "metadata": {},
   "outputs": [
    {
     "data": {
      "text/plain": [
       "array([[8., 4.],\n",
       "       [8., 4.],\n",
       "       [8., 4.],\n",
       "       ...,\n",
       "       [8., 4.],\n",
       "       [8., 4.],\n",
       "       [8., 4.]])"
      ]
     },
     "execution_count": 18,
     "metadata": {},
     "output_type": "execute_result"
    }
   ],
   "source": [
    "X_encoded_ord \n",
    "#  Refer back to the output of \"my_encoder_ord.categories_\": \n",
    "## the values are the index of the categorical value in the corresponding array"
   ]
  },
  {
   "cell_type": "code",
   "execution_count": null,
   "metadata": {},
   "outputs": [],
   "source": []
  }
 ],
 "metadata": {
  "kernelspec": {
   "display_name": "Python 3",
   "language": "python",
   "name": "python3"
  },
  "language_info": {
   "codemirror_mode": {
    "name": "ipython",
    "version": 3
   },
   "file_extension": ".py",
   "mimetype": "text/x-python",
   "name": "python",
   "nbconvert_exporter": "python",
   "pygments_lexer": "ipython3",
   "version": "3.8.8"
  }
 },
 "nbformat": 4,
 "nbformat_minor": 4
}
